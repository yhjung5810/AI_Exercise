{
  "cells": [
    {
      "cell_type": "markdown",
      "metadata": {
        "id": "view-in-github",
        "colab_type": "text"
      },
      "source": [
        "<a href=\"https://colab.research.google.com/github/yhjung5810/AI_Exercise/blob/main/pandas_exercise_skeleton_ipynb%EC%9D%98_%EC%82%AC%EB%B3%B8.ipynb\" target=\"_parent\"><img src=\"https://colab.research.google.com/assets/colab-badge.svg\" alt=\"Open In Colab\"/></a>"
      ]
    },
    {
      "cell_type": "code",
      "execution_count": 4,
      "metadata": {
        "id": "sb8ZMxouSyms"
      },
      "outputs": [],
      "source": [
        "import numpy as np\n",
        "import pandas as pd\n",
        "import matplotlib.pyplot as plt\n",
        "import seaborn as sns\n",
        "\n",
        "np.random.seed(0)"
      ]
    },
    {
      "cell_type": "markdown",
      "metadata": {
        "id": "Zuknp1H-Symv"
      },
      "source": [
        "# 과제 1\n",
        "## Q1. \n",
        "\n",
        "\n",
        "<div class=\"alert alert-success\">\n",
        "[문제1]     \n",
        "    \n",
        "insurance.csv'파일 읽어서 df에 할당하고, 상위 5개 항목 출력하기\n",
        "</div>\n",
        "\n",
        "------------\n",
        "\n",
        "[힌트]\n",
        "\n",
        "pd.read_csv()"
      ]
    },
    {
      "cell_type": "code",
      "execution_count": 36,
      "metadata": {
        "id": "OiHmDWloSymx",
        "colab": {
          "base_uri": "https://localhost:8080/"
        },
        "outputId": "b07169b9-020c-4613-de55-4524472d2ba8"
      },
      "outputs": [
        {
          "output_type": "stream",
          "name": "stdout",
          "text": [
            "<bound method NDFrame.head of       age     sex     bmi  children smoker     region      charges\n",
            "0      19  female  27.900         0    yes  southwest  16884.92400\n",
            "1      18    male  33.770         1     no  southeast   1725.55230\n",
            "2      28    male  33.000         3     no  southeast   4449.46200\n",
            "3      33    male  22.705         0     no  northwest  21984.47061\n",
            "4      32    male  28.880         0     no  northwest   3866.85520\n",
            "...   ...     ...     ...       ...    ...        ...          ...\n",
            "1333   50    male  30.970         3     no  northwest  10600.54830\n",
            "1334   18  female  31.920         0     no  northeast   2205.98080\n",
            "1335   18  female  36.850         0     no  southeast   1629.83350\n",
            "1336   21  female  25.800         0     no  southwest   2007.94500\n",
            "1337   61  female  29.070         0    yes  northwest  29141.36030\n",
            "\n",
            "[1338 rows x 7 columns]>\n"
          ]
        }
      ],
      "source": [
        "df=pd.read_csv('https://raw.githubusercontent.com/zzhining/ml_basic/main/dataset/insurance.csv')\n",
        "print(df.head)"
      ]
    },
    {
      "cell_type": "markdown",
      "metadata": {
        "id": "CxaOfLkjSymx"
      },
      "source": [
        "## Q2. \n",
        "\n",
        "\n",
        "<div class=\"alert alert-success\">\n",
        "[문제2]     \n",
        "    \n",
        "df의 요약(평균, 4분위수, 전체 갯수 등)정보 확인하기\n",
        "</div>\n",
        "\n",
        "------------"
      ]
    },
    {
      "cell_type": "code",
      "execution_count": 26,
      "metadata": {
        "id": "NcQL-hQMSymy",
        "colab": {
          "base_uri": "https://localhost:8080/"
        },
        "outputId": "e590303e-d7c6-41e3-bd94-bf2a287278d8"
      },
      "outputs": [
        {
          "output_type": "stream",
          "name": "stdout",
          "text": [
            "               age          bmi     children       charges         debt\n",
            "count  1338.000000  1338.000000  1338.000000   1338.000000  1338.000000\n",
            "mean     39.207025    30.663397     1.094918  13270.422265   668.500000\n",
            "std      14.049960     6.098187     1.205493  12110.011237   386.391641\n",
            "min      18.000000    15.960000     0.000000   1121.873900     0.000000\n",
            "25%      27.000000    26.296250     0.000000   4740.287150   334.250000\n",
            "50%      39.000000    30.400000     1.000000   9382.033000   668.500000\n",
            "75%      51.000000    34.693750     2.000000  16639.912515  1002.750000\n",
            "max      64.000000    53.130000     5.000000  63770.428010  1337.000000\n"
          ]
        }
      ],
      "source": [
        "print(df.describe())"
      ]
    },
    {
      "cell_type": "markdown",
      "metadata": {
        "id": "rlEU5FMSSymy"
      },
      "source": [
        "## Q3. \n",
        "\n",
        "\n",
        "<div class=\"alert alert-success\">\n",
        "[문제3]     \n",
        "    \n",
        "신규 컬럼(double bmi)을 생성하고, bmi의 2배가 되는 값을 할당하기\n",
        "</div>\n",
        "\n",
        "------------"
      ]
    },
    {
      "cell_type": "code",
      "execution_count": 27,
      "metadata": {
        "id": "HfrxyjKTSymy",
        "colab": {
          "base_uri": "https://localhost:8080/"
        },
        "outputId": "4c44335f-efeb-4cb9-e666-1dc2ecf746c6"
      },
      "outputs": [
        {
          "output_type": "stream",
          "name": "stdout",
          "text": [
            "   age     sex     bmi  children smoker     region      charges  debt  \\\n",
            "0   19  female  27.900         0    yes  southwest  16884.92400     0   \n",
            "1   18    male  33.770         1     no  southeast   1725.55230     1   \n",
            "2   28    male  33.000         3     no  southeast   4449.46200     2   \n",
            "3   33    male  22.705         0     no  northwest  21984.47061     3   \n",
            "4   32    male  28.880         0     no  northwest   3866.85520     4   \n",
            "\n",
            "   double bmi  \n",
            "0       55.80  \n",
            "1       67.54  \n",
            "2       66.00  \n",
            "3       45.41  \n",
            "4       57.76  \n"
          ]
        }
      ],
      "source": [
        "df['double bmi'] = df['bmi'] * 2\n",
        "print(df.head())"
      ]
    },
    {
      "cell_type": "markdown",
      "metadata": {
        "id": "1ZJWpJDjSymz"
      },
      "source": [
        "## Q4. \n",
        "\n",
        "\n",
        "<div class=\"alert alert-success\">\n",
        "[문제4]     \n",
        "    \n",
        "신규 컬럼(debt)을 생성하고, 0으로 채우기\n",
        "</div>\n",
        "\n",
        "------------"
      ]
    },
    {
      "cell_type": "code",
      "execution_count": 28,
      "metadata": {
        "id": "yv2auFqQSymz",
        "colab": {
          "base_uri": "https://localhost:8080/"
        },
        "outputId": "04ffae5e-0a65-4742-d13e-6431276ecc33"
      },
      "outputs": [
        {
          "output_type": "stream",
          "name": "stdout",
          "text": [
            "   age     sex     bmi  children smoker     region      charges  debt  \\\n",
            "0   19  female  27.900         0    yes  southwest  16884.92400     0   \n",
            "1   18    male  33.770         1     no  southeast   1725.55230     0   \n",
            "2   28    male  33.000         3     no  southeast   4449.46200     0   \n",
            "3   33    male  22.705         0     no  northwest  21984.47061     0   \n",
            "4   32    male  28.880         0     no  northwest   3866.85520     0   \n",
            "\n",
            "   double bmi  \n",
            "0       55.80  \n",
            "1       67.54  \n",
            "2       66.00  \n",
            "3       45.41  \n",
            "4       57.76  \n"
          ]
        }
      ],
      "source": [
        "df['debt'] = 0\n",
        "print(df.head())"
      ]
    },
    {
      "cell_type": "markdown",
      "metadata": {
        "id": "6uVpBuNoSymz"
      },
      "source": [
        "## Q5. \n",
        "\n",
        "\n",
        "<div class=\"alert alert-success\">\n",
        "[문제5]     \n",
        "    \n",
        "debt에 0부터 값이 증가하도록 채우기\n",
        "</div>\n",
        "\n",
        "------------"
      ]
    },
    {
      "cell_type": "code",
      "execution_count": 29,
      "metadata": {
        "id": "xwSSjn9bSym0",
        "colab": {
          "base_uri": "https://localhost:8080/"
        },
        "outputId": "363c1f00-fc55-459e-8b81-ec9e8f9f2d52"
      },
      "outputs": [
        {
          "output_type": "stream",
          "name": "stdout",
          "text": [
            "   age     sex     bmi  children smoker     region      charges  debt  \\\n",
            "0   19  female  27.900         0    yes  southwest  16884.92400     0   \n",
            "1   18    male  33.770         1     no  southeast   1725.55230     1   \n",
            "2   28    male  33.000         3     no  southeast   4449.46200     2   \n",
            "3   33    male  22.705         0     no  northwest  21984.47061     3   \n",
            "4   32    male  28.880         0     no  northwest   3866.85520     4   \n",
            "\n",
            "   double bmi  \n",
            "0       55.80  \n",
            "1       67.54  \n",
            "2       66.00  \n",
            "3       45.41  \n",
            "4       57.76  \n"
          ]
        }
      ],
      "source": [
        "df['debt'] = range(len(df))\n",
        "print(df.head())"
      ]
    },
    {
      "cell_type": "markdown",
      "metadata": {
        "id": "Nozo2vD4Sym0"
      },
      "source": [
        "## Q6. \n",
        "\n",
        "\n",
        "<div class=\"alert alert-success\">\n",
        "[문제6]     \n",
        "    \n",
        "1번 인덱스의 정보 출력\n",
        "</div>\n",
        "\n",
        "------------\n",
        "\n",
        "[힌트]\n",
        "iloc\n",
        "\n",
        "\n",
        "\n",
        "age                  18  \n",
        "sex                male  \n",
        "bmi               33.77  \n",
        "children              1  \n",
        "smoker               no  \n",
        "region        southeast  \n",
        "charges         1725.55  \n",
        "double bmi        67.54  \n",
        "debt                  1  "
      ]
    },
    {
      "cell_type": "code",
      "execution_count": 30,
      "metadata": {
        "id": "MyX4-_qrSym0",
        "colab": {
          "base_uri": "https://localhost:8080/"
        },
        "outputId": "065b028a-c394-4e45-c24a-f73ee5add174"
      },
      "outputs": [
        {
          "output_type": "stream",
          "name": "stdout",
          "text": [
            "age                  18\n",
            "sex                male\n",
            "bmi               33.77\n",
            "children              1\n",
            "smoker               no\n",
            "region        southeast\n",
            "charges       1725.5523\n",
            "debt                  1\n",
            "double bmi        67.54\n",
            "Name: 1, dtype: object\n"
          ]
        }
      ],
      "source": [
        "print(df.iloc[1])"
      ]
    },
    {
      "cell_type": "markdown",
      "metadata": {
        "id": "GAXMcD8CSym0"
      },
      "source": [
        "## Q7. \n",
        "\n",
        "\n",
        "<div class=\"alert alert-success\">\n",
        "[문제7]     \n",
        "    \n",
        "'double bmi'열 삭제하기\n",
        "</div>"
      ]
    },
    {
      "cell_type": "code",
      "execution_count": 31,
      "metadata": {
        "id": "XawCoeJRSym1",
        "colab": {
          "base_uri": "https://localhost:8080/"
        },
        "outputId": "30dde2a6-29e1-44b6-dffc-fe287348088e"
      },
      "outputs": [
        {
          "output_type": "stream",
          "name": "stdout",
          "text": [
            "   age     sex     bmi  children smoker     region      charges  debt\n",
            "0   19  female  27.900         0    yes  southwest  16884.92400     0\n",
            "1   18    male  33.770         1     no  southeast   1725.55230     1\n",
            "2   28    male  33.000         3     no  southeast   4449.46200     2\n",
            "3   33    male  22.705         0     no  northwest  21984.47061     3\n",
            "4   32    male  28.880         0     no  northwest   3866.85520     4\n"
          ]
        }
      ],
      "source": [
        "df = df.drop('double bmi', axis=1)\n",
        "print(df.head())"
      ]
    },
    {
      "cell_type": "markdown",
      "metadata": {
        "id": "VrbIHq_NSym1"
      },
      "source": [
        "## Q8. \n",
        "\n",
        "\n",
        "<div class=\"alert alert-success\">\n",
        "[문제8]     \n",
        "    \n",
        " 'age'열, 'sex'열만 출력하기\n",
        "</div>"
      ]
    },
    {
      "cell_type": "code",
      "execution_count": 20,
      "metadata": {
        "id": "wWdFGo0cSym1",
        "colab": {
          "base_uri": "https://localhost:8080/"
        },
        "outputId": "c44b14c1-1a51-486e-813b-fc35a6cbf87f"
      },
      "outputs": [
        {
          "output_type": "stream",
          "name": "stdout",
          "text": [
            "      age     sex\n",
            "0      19  female\n",
            "1      18    male\n",
            "2      28    male\n",
            "3      33    male\n",
            "4      32    male\n",
            "...   ...     ...\n",
            "1333   50    male\n",
            "1334   18  female\n",
            "1335   18  female\n",
            "1336   21  female\n",
            "1337   61  female\n",
            "\n",
            "[1338 rows x 2 columns]\n"
          ]
        }
      ],
      "source": [
        "print(df[['age', 'sex']])"
      ]
    },
    {
      "cell_type": "markdown",
      "metadata": {
        "id": "w3z2xK4CSym1"
      },
      "source": [
        "# 과제2\n",
        "## Q9.\n",
        "<div class=\"alert alert-success\">\n",
        "[문제9]     \n",
        "    \n",
        "나이를 1살씩 증가시키기\n",
        "</div>"
      ]
    },
    {
      "cell_type": "code",
      "execution_count": 37,
      "metadata": {
        "id": "eIZkMPyRSym1",
        "colab": {
          "base_uri": "https://localhost:8080/"
        },
        "outputId": "f2daa029-1982-4b0d-c6f4-fdaa667d0770"
      },
      "outputs": [
        {
          "output_type": "stream",
          "name": "stdout",
          "text": [
            "   age     sex     bmi  children smoker     region      charges\n",
            "0   20  female  27.900         0    yes  southwest  16884.92400\n",
            "1   19    male  33.770         1     no  southeast   1725.55230\n",
            "2   29    male  33.000         3     no  southeast   4449.46200\n",
            "3   34    male  22.705         0     no  northwest  21984.47061\n",
            "4   33    male  28.880         0     no  northwest   3866.85520\n"
          ]
        }
      ],
      "source": [
        "df['age'] = df['age'] + 1\n",
        "print(df.head())"
      ]
    },
    {
      "cell_type": "code",
      "execution_count": null,
      "metadata": {
        "id": "Vs_KuBbWSym1"
      },
      "outputs": [],
      "source": []
    },
    {
      "cell_type": "markdown",
      "metadata": {
        "id": "YR7kdcd2Sym2"
      },
      "source": [
        "## Q10.\n",
        "<div class=\"alert alert-success\">\n",
        "[문제10]     \n",
        "    \n",
        "charges의 표시형식을 소수점 아래 2자리로 바꾸기\n",
        "</div>\n",
        "\n",
        "[힌트]\n",
        "\n",
        "함수 생성, 적용(apply/map)"
      ]
    },
    {
      "cell_type": "code",
      "execution_count": 38,
      "metadata": {
        "id": "oca4eyx5Sym2",
        "colab": {
          "base_uri": "https://localhost:8080/"
        },
        "outputId": "5fc5afe7-4d0a-40a4-bfe7-6d6092f64c68"
      },
      "outputs": [
        {
          "output_type": "stream",
          "name": "stdout",
          "text": [
            "   age     sex     bmi  children smoker     region   charges\n",
            "0   20  female  27.900         0    yes  southwest  16884.92\n",
            "1   19    male  33.770         1     no  southeast   1725.55\n",
            "2   29    male  33.000         3     no  southeast   4449.46\n",
            "3   34    male  22.705         0     no  northwest  21984.47\n",
            "4   33    male  28.880         0     no  northwest   3866.86\n"
          ]
        }
      ],
      "source": [
        "def format_charges(x):\n",
        "    return round(x, 2)\n",
        "\n",
        "df['charges'] = df['charges'].apply(format_charges)\n",
        "print(df.head())"
      ]
    },
    {
      "cell_type": "markdown",
      "metadata": {
        "id": "fAWFG4KOSym2"
      },
      "source": [
        "## Q11.\n",
        "<div class=\"alert alert-success\">\n",
        "[문제11]     \n",
        "    \n",
        "컬럼 정렬(알파벳 순서대로) : age, bmi, charges... 순으로 정렬\n",
        "</div>\n",
        "\n",
        "[Hint]\n",
        "sort_index()\n"
      ]
    },
    {
      "cell_type": "code",
      "execution_count": 39,
      "metadata": {
        "id": "XKS8Rhb8Sym2",
        "colab": {
          "base_uri": "https://localhost:8080/"
        },
        "outputId": "42dc7607-e13f-46ba-8b25-5214ba1bf798"
      },
      "outputs": [
        {
          "output_type": "stream",
          "name": "stdout",
          "text": [
            "   age     bmi   charges  children     region     sex smoker\n",
            "0   20  27.900  16884.92         0  southwest  female    yes\n",
            "1   19  33.770   1725.55         1  southeast    male     no\n",
            "2   29  33.000   4449.46         3  southeast    male     no\n",
            "3   34  22.705  21984.47         0  northwest    male     no\n",
            "4   33  28.880   3866.86         0  northwest    male     no\n"
          ]
        }
      ],
      "source": [
        "df = df.sort_index(axis=1)\n",
        "print(df.head())"
      ]
    },
    {
      "cell_type": "markdown",
      "metadata": {
        "id": "eBEljgBYSym2"
      },
      "source": [
        "## Q12.\n",
        "<div class=\"alert alert-success\">\n",
        "[문제12]     \n",
        "    \n",
        "값 정렬(age) : 나이 순으로 정렬\n",
        "</div>\n",
        "\n",
        "[Hint]\n",
        "sort_values\n"
      ]
    },
    {
      "cell_type": "code",
      "execution_count": 40,
      "metadata": {
        "id": "csbByWQJSym3",
        "colab": {
          "base_uri": "https://localhost:8080/"
        },
        "outputId": "b560502e-aab9-4e8c-9139-83a620c58281"
      },
      "outputs": [
        {
          "output_type": "stream",
          "name": "stdout",
          "text": [
            "      age    bmi   charges  children     region     sex smoker\n",
            "1248   19  39.82   1633.96         0  southeast  female     no\n",
            "482    19  31.35   1622.19         0  southeast  female     no\n",
            "492    19  25.08   2196.47         0  northeast  female     no\n",
            "525    19  33.88  11482.63         0  southeast  female     no\n",
            "529    19  25.46   1708.00         0  northeast    male     no\n"
          ]
        }
      ],
      "source": [
        "df = df.sort_values('age')\n",
        "print(df.head())"
      ]
    },
    {
      "cell_type": "markdown",
      "metadata": {
        "id": "CR_Nv2vhSym3"
      },
      "source": [
        "## Q13.\n",
        "<div class=\"alert alert-success\">\n",
        "[문제13]     \n",
        "    \n",
        "나이('age') 평균구하기\n",
        "</div>\n",
        "\n",
        "[Hint]\n",
        "mean"
      ]
    },
    {
      "cell_type": "code",
      "execution_count": 41,
      "metadata": {
        "id": "NkTlb1O7Sym3",
        "colab": {
          "base_uri": "https://localhost:8080/"
        },
        "outputId": "578f28c1-4185-4a80-9a1d-8d94cfe82479"
      },
      "outputs": [
        {
          "output_type": "stream",
          "name": "stdout",
          "text": [
            "나이 평균: 40.20702541106129\n"
          ]
        }
      ],
      "source": [
        "age_mean = df['age'].mean()\n",
        "print('나이 평균:', age_mean)"
      ]
    },
    {
      "cell_type": "markdown",
      "metadata": {
        "id": "9nD4NeOQSym3"
      },
      "source": [
        "## Q14.\n",
        "<div class=\"alert alert-success\">\n",
        "[문제14]     \n",
        "    \n",
        "보험료('charges')와 가장 상관관계가 높은 변수는?\n",
        "</div>\n",
        "\n",
        "[Hint]\n",
        " - 공분산: df.cov()\n",
        " - 상관계수: df.corr()"
      ]
    },
    {
      "cell_type": "code",
      "execution_count": null,
      "metadata": {
        "id": "vAOvFQ4gSym3"
      },
      "outputs": [],
      "source": []
    },
    {
      "cell_type": "code",
      "execution_count": null,
      "metadata": {
        "id": "yESJueu6Sym3"
      },
      "outputs": [],
      "source": []
    },
    {
      "cell_type": "markdown",
      "metadata": {
        "id": "yzBCgRfGSym3"
      },
      "source": [
        "# 과제 3\n",
        "## Q15.\n",
        "<div class=\"alert alert-success\">\n",
        "[문제15]     \n",
        "    \n",
        " 남자, 여자가 각각 몇명있는지 구하기\n",
        "</div>\n",
        "\n",
        "[Hint]\n",
        "pd.value_counts\n"
      ]
    },
    {
      "cell_type": "code",
      "execution_count": null,
      "metadata": {
        "id": "flvcVvOaSym4"
      },
      "outputs": [],
      "source": []
    },
    {
      "cell_type": "code",
      "execution_count": null,
      "metadata": {
        "id": "d1LodzOGSym4"
      },
      "outputs": [],
      "source": []
    },
    {
      "cell_type": "markdown",
      "metadata": {
        "id": "cS-6vyE3Sym4"
      },
      "source": [
        "## Q16.\n",
        "<div class=\"alert alert-success\">\n",
        "[문제16]     \n",
        "    \n",
        "자녀(children)가 3명인 데이터 출력하기\n",
        "</div>"
      ]
    },
    {
      "cell_type": "code",
      "execution_count": null,
      "metadata": {
        "id": "Xl3UyVeaSym4"
      },
      "outputs": [],
      "source": []
    },
    {
      "cell_type": "code",
      "execution_count": null,
      "metadata": {
        "id": "7Kja-RUWSym4"
      },
      "outputs": [],
      "source": []
    },
    {
      "cell_type": "markdown",
      "metadata": {
        "id": "99JW6dm_Sym4"
      },
      "source": [
        "## Q16.\n",
        "<div class=\"alert alert-success\">\n",
        "[문제16]     \n",
        "    \n",
        "자녀(children)가  5명 이상인 데이터 출력하기\n",
        "</div>"
      ]
    },
    {
      "cell_type": "code",
      "execution_count": null,
      "metadata": {
        "id": "qgC9GcwMSym4"
      },
      "outputs": [],
      "source": []
    },
    {
      "cell_type": "markdown",
      "metadata": {
        "id": "mHSF2EyZSym4"
      },
      "source": [
        "## Q17.\n",
        "<div class=\"alert alert-success\">\n",
        "[문제17]     \n",
        "    \n",
        " bmi가  17 미만인 데이터 출력하기\n",
        "</div>"
      ]
    },
    {
      "cell_type": "code",
      "execution_count": null,
      "metadata": {
        "id": "dCm_wjIJSym5"
      },
      "outputs": [],
      "source": []
    },
    {
      "cell_type": "markdown",
      "metadata": {
        "id": "OZqzyKT3Sym5"
      },
      "source": [
        "# 과제 4 \n",
        "## Q18.\n",
        "<div class=\"alert alert-success\">\n",
        "[문제18]     \n",
        "    \n",
        "성별에 따른 보험료 평균\n",
        "</div>"
      ]
    },
    {
      "cell_type": "code",
      "execution_count": null,
      "metadata": {
        "id": "zEdlTV1LSym5"
      },
      "outputs": [],
      "source": []
    },
    {
      "cell_type": "markdown",
      "metadata": {
        "id": "F3nEGlBQSym5"
      },
      "source": [
        "## Q19.\n",
        "<div class=\"alert alert-success\">\n",
        "[문제19]     \n",
        "    \n",
        "흡연여부에 따른 보험료 평균\n",
        "</div>"
      ]
    },
    {
      "cell_type": "code",
      "execution_count": null,
      "metadata": {
        "id": "tIQBkdlLSym5"
      },
      "outputs": [],
      "source": []
    },
    {
      "cell_type": "markdown",
      "metadata": {
        "id": "-8u1gXqfSym5"
      },
      "source": [
        "## Q20.\n",
        "<div class=\"alert alert-success\">\n",
        "[문제20]     \n",
        "    \n",
        "지역별 보험료 평균\n",
        "</div>"
      ]
    },
    {
      "cell_type": "code",
      "execution_count": null,
      "metadata": {
        "id": "G7TN-B8MSym5"
      },
      "outputs": [],
      "source": []
    },
    {
      "cell_type": "markdown",
      "metadata": {
        "id": "PbWuGw9wSym5"
      },
      "source": [
        "## Q21.\n",
        "<div class=\"alert alert-success\">\n",
        "[문제21]     \n",
        "    \n",
        "흡연여부 + 지역별 데이터 평균\n",
        "</div>"
      ]
    },
    {
      "cell_type": "code",
      "execution_count": null,
      "metadata": {
        "id": "1D8GMqIJSym6"
      },
      "outputs": [],
      "source": []
    },
    {
      "cell_type": "markdown",
      "metadata": {
        "id": "14kuCN1rSym6"
      },
      "source": [
        "## Q22.\n",
        "<div class=\"alert alert-success\">\n",
        "[문제22]     \n",
        "    \n",
        " 흡연여부 + 지역별 데이터 평균에서 'charges' 만 츨력하기\n",
        "</div>"
      ]
    },
    {
      "cell_type": "code",
      "execution_count": null,
      "metadata": {
        "id": "tQZwgvwASym6"
      },
      "outputs": [],
      "source": []
    },
    {
      "cell_type": "markdown",
      "metadata": {
        "id": "jMvim1N3Sym6"
      },
      "source": [
        "## Q23.\n",
        "<div class=\"alert alert-success\">\n",
        "[문제23]     \n",
        "    \n",
        " 흡연여부 + 지역별 데이터 크기(size)\n",
        "</div>"
      ]
    },
    {
      "cell_type": "code",
      "execution_count": null,
      "metadata": {
        "id": "sEs_2N6lSym6"
      },
      "outputs": [],
      "source": []
    },
    {
      "cell_type": "markdown",
      "metadata": {
        "id": "Xecgqc-VSym6"
      },
      "source": [
        "## Q24.\n",
        "<div class=\"alert alert-success\">\n",
        "[문제24]     \n",
        "    \n",
        "smoker 여부에 따라, group_val 컬럼에 '흡연자', '비흡연자' 표시하기\n",
        "</div>"
      ]
    },
    {
      "cell_type": "code",
      "execution_count": null,
      "metadata": {
        "id": "N-HRlzW3Sym6"
      },
      "outputs": [],
      "source": []
    },
    {
      "cell_type": "code",
      "execution_count": null,
      "metadata": {
        "id": "RSdAOjzVSym6"
      },
      "outputs": [],
      "source": []
    },
    {
      "cell_type": "code",
      "execution_count": null,
      "metadata": {
        "id": "PvF5YaHPSym6"
      },
      "outputs": [],
      "source": []
    }
  ],
  "metadata": {
    "kernelspec": {
      "display_name": "Python 3",
      "language": "python",
      "name": "python3"
    },
    "language_info": {
      "codemirror_mode": {
        "name": "ipython",
        "version": 3
      },
      "file_extension": ".py",
      "mimetype": "text/x-python",
      "name": "python",
      "nbconvert_exporter": "python",
      "pygments_lexer": "ipython3",
      "version": "3.8.5"
    },
    "toc": {
      "base_numbering": 1,
      "nav_menu": {},
      "number_sections": false,
      "sideBar": true,
      "skip_h1_title": false,
      "title_cell": "Table of Contents",
      "title_sidebar": "Contents",
      "toc_cell": false,
      "toc_position": {
        "height": "calc(100% - 180px)",
        "left": "10px",
        "top": "150px",
        "width": "332.547px"
      },
      "toc_section_display": true,
      "toc_window_display": true
    },
    "colab": {
      "provenance": [],
      "include_colab_link": true
    }
  },
  "nbformat": 4,
  "nbformat_minor": 0
}